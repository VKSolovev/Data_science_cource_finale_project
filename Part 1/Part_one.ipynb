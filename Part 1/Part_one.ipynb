{
 "cells": [
  {
   "cell_type": "code",
   "execution_count": 1,
   "metadata": {},
   "outputs": [],
   "source": [
    "import requests\n",
    "from bs4 import BeautifulSoup"
   ]
  },
  {
   "cell_type": "code",
   "execution_count": 2,
   "metadata": {},
   "outputs": [],
   "source": [
    "import pandas as pd \n",
    "#в случае старой версии пандас может не работать метод json_normalize. Я использовал версию 1.0.4. \n",
    "#https://pandas.pydata.org/pandas-docs/stable/reference/api/pandas.json_normalize.html\n",
    "import time\n",
    "import random\n",
    "from tqdm import tqdm\n",
    "import time"
   ]
  },
  {
   "cell_type": "code",
   "execution_count": 24,
   "metadata": {},
   "outputs": [],
   "source": [
    "import matplotlib.pyplot as plt\n",
    "%matplotlib inline"
   ]
  },
  {
   "cell_type": "code",
   "execution_count": 25,
   "metadata": {},
   "outputs": [],
   "source": [
    "#Техническая функция\n",
    "def to_double(s):\n",
    "    return float(s)\n",
    "\n",
    "#Эта функция подключается к апи и получает данные по стоимости индексов, принимая на вход тикер.\n",
    "#Использование Пандас (2 балла. Посложнее будет в части 2) и Апи, которого не было в дз (2 балла)\n",
    "def getDfValues(symbol):\n",
    "    url = \"https://www.alphavantage.co/query?\"\n",
    "    params = {\n",
    "        \"function\": \"TIME_SERIES_MONTHLY_ADJUSTED\",\n",
    "        \"symbol\":symbol,\n",
    "        \"interval\":\"5min\",\n",
    "        \"apikey\":\"L684S05FNIPDNCPE\"\n",
    "    }\n",
    "    g = requests.get(url, params=params)\n",
    "    q = g.json()\n",
    "    df = pd.json_normalize(q)\n",
    "    df_t = df.transpose(copy = True)\n",
    "    res = []\n",
    "    for line in df_t.index:\n",
    "        if line[-5:] == \"close\" and line[-7:] != \"d close\":\n",
    "            res.append(line)\n",
    "    df_1 = df_t[0].loc[res]\n",
    "    df_1.index = [line[-19:-9] for line in df_1.index]\n",
    "    df_2 = pd.DataFrame(df_1)\n",
    "    df_2['Value'] = df_2[0].apply(to_double)\n",
    "    del df_2[0]\n",
    "    return df_2.sort_index()"
   ]
  },
  {
   "cell_type": "code",
   "execution_count": 26,
   "metadata": {},
   "outputs": [],
   "source": [
    "import requests\n",
    "from bs4 import BeautifulSoup\n",
    "#С помощью веб скреппинга (1 балл) получаем данные о существующих тикерах"
   ]
  },
  {
   "cell_type": "code",
   "execution_count": 27,
   "metadata": {},
   "outputs": [
    {
     "data": {
      "text/plain": [
       "True"
      ]
     },
     "execution_count": 27,
     "metadata": {},
     "output_type": "execute_result"
    }
   ],
   "source": [
    "url = \"https://www.masterforex-v.org/wiki/ticker-symbol.html\"\n",
    "r = requests.get(url)\n",
    "r.ok"
   ]
  },
  {
   "cell_type": "code",
   "execution_count": 9,
   "metadata": {},
   "outputs": [],
   "source": [
    "soup = BeautifulSoup(r.text, 'lxml')"
   ]
  },
  {
   "cell_type": "code",
   "execution_count": 10,
   "metadata": {},
   "outputs": [],
   "source": [
    "mt = soup.find_all(\"div\", {\"id\" : \"mainsite\"})[0].find_all(\"table\", {'class' : 'mainsite'})[0]"
   ]
  },
  {
   "cell_type": "code",
   "execution_count": 11,
   "metadata": {},
   "outputs": [],
   "source": [
    "bk = mt.tr.find_all(\"td\", {\"class\" : 'site-center'})[0].section.article.find_all(\"div\", {\"class\" : 'book-content'})[0]"
   ]
  },
  {
   "cell_type": "code",
   "execution_count": 12,
   "metadata": {},
   "outputs": [],
   "source": [
    "nt = bk.find_all(\"ul\")"
   ]
  },
  {
   "cell_type": "code",
   "execution_count": 13,
   "metadata": {},
   "outputs": [],
   "source": [
    "#Соберем достаточное количество тикеров\n",
    "tickers = []\n",
    "\n",
    "for tag in nt[2].find_all(\"li\"):\n",
    "    tickers.append(tag.strong.text.strip())\n",
    "for tag in nt[4].find_all(\"li\"):\n",
    "    tickers.append(tag.strong.text.strip())\n",
    "for tag in nt[5].find_all(\"li\"):\n",
    "    tickers.append(tag.strong.text[:-2].strip())\n",
    "for tag in nt[3].find_all(\"li\"):\n",
    "    tickers.append(tag.strong.text.strip())"
   ]
  },
  {
   "cell_type": "code",
   "execution_count": 14,
   "metadata": {},
   "outputs": [
    {
     "name": "stderr",
     "output_type": "stream",
     "text": [
      "100%|████████████████████████████████████████████████████████████████████████████████| 100/100 [02:50<00:00,  1.55s/it]"
     ]
    }
   ],
   "source": [
    "#Собираем таблички с данными и использование tqdm (1 балл). Это работает очень долго\n",
    "compl = [False] * len(tickers)\n",
    "tables = [pd.DataFrame()] * len(tickers)\n",
    "try_ = 0\n",
    "pbar = tqdm(total=100)\n",
    "for try_ in range(10):\n",
    "    pbar.update(10)\n",
    "    for i in range(len(tickers)):\n",
    "        if not compl[i]:\n",
    "            df = getDfValues(tickers[i])\n",
    "            if df.shape[0] > 0:\n",
    "                tables[i] = df\n",
    "                compl[i] = True"
   ]
  },
  {
   "cell_type": "code",
   "execution_count": 15,
   "metadata": {},
   "outputs": [],
   "source": [
    "#Теперь выгрузим все полученные таблицы в csv (можно не запускать, для работы следующих частей это не важно)\n",
    "file = open('tickers', 'w')\n",
    "for i in range(len(tables)):\n",
    "    if (compl[i]):\n",
    "        tables[i].to_csv(tickers[i] + '.csv')\n",
    "        file.write(tickers[i] + '\\n')\n",
    "file.close()"
   ]
  },
  {
   "cell_type": "code",
   "execution_count": 16,
   "metadata": {},
   "outputs": [],
   "source": [
    "#Создаем базу данных и кладем в нее наши таблицы (1 балл)\n",
    "from sqlite3 import connect"
   ]
  },
  {
   "cell_type": "code",
   "execution_count": 17,
   "metadata": {},
   "outputs": [],
   "source": [
    "conn = connect(\"my_database.sqlite\")\n",
    "\n",
    "for i in range(len(tables)):\n",
    "    tables[i].to_sql(tickers[i], conn, if_exists=\"replace\")\n",
    "c = conn.cursor()"
   ]
  },
  {
   "cell_type": "code",
   "execution_count": 18,
   "metadata": {},
   "outputs": [
    {
     "data": {
      "text/html": [
       "<div>\n",
       "<style scoped>\n",
       "    .dataframe tbody tr th:only-of-type {\n",
       "        vertical-align: middle;\n",
       "    }\n",
       "\n",
       "    .dataframe tbody tr th {\n",
       "        vertical-align: top;\n",
       "    }\n",
       "\n",
       "    .dataframe thead th {\n",
       "        text-align: right;\n",
       "    }\n",
       "</style>\n",
       "<table border=\"1\" class=\"dataframe\">\n",
       "  <thead>\n",
       "    <tr style=\"text-align: right;\">\n",
       "      <th></th>\n",
       "      <th>index</th>\n",
       "      <th>Value</th>\n",
       "    </tr>\n",
       "  </thead>\n",
       "  <tbody>\n",
       "    <tr>\n",
       "      <th>0</th>\n",
       "      <td>2000-07-31</td>\n",
       "      <td>90.06</td>\n",
       "    </tr>\n",
       "    <tr>\n",
       "      <th>1</th>\n",
       "      <td>2000-08-31</td>\n",
       "      <td>93.02</td>\n",
       "    </tr>\n",
       "    <tr>\n",
       "      <th>2</th>\n",
       "      <td>2000-09-29</td>\n",
       "      <td>91.13</td>\n",
       "    </tr>\n",
       "    <tr>\n",
       "      <th>3</th>\n",
       "      <td>2000-10-31</td>\n",
       "      <td>96.63</td>\n",
       "    </tr>\n",
       "    <tr>\n",
       "      <th>4</th>\n",
       "      <td>2000-11-30</td>\n",
       "      <td>99.88</td>\n",
       "    </tr>\n",
       "    <tr>\n",
       "      <th>...</th>\n",
       "      <td>...</td>\n",
       "      <td>...</td>\n",
       "    </tr>\n",
       "    <tr>\n",
       "      <th>235</th>\n",
       "      <td>2020-02-28</td>\n",
       "      <td>149.24</td>\n",
       "    </tr>\n",
       "    <tr>\n",
       "      <th>236</th>\n",
       "      <td>2020-03-31</td>\n",
       "      <td>136.51</td>\n",
       "    </tr>\n",
       "    <tr>\n",
       "      <th>237</th>\n",
       "      <td>2020-04-30</td>\n",
       "      <td>151.92</td>\n",
       "    </tr>\n",
       "    <tr>\n",
       "      <th>238</th>\n",
       "      <td>2020-05-29</td>\n",
       "      <td>156.44</td>\n",
       "    </tr>\n",
       "    <tr>\n",
       "      <th>239</th>\n",
       "      <td>2020-06-15</td>\n",
       "      <td>157.05</td>\n",
       "    </tr>\n",
       "  </tbody>\n",
       "</table>\n",
       "<p>240 rows × 2 columns</p>\n",
       "</div>"
      ],
      "text/plain": [
       "          index   Value\n",
       "0    2000-07-31   90.06\n",
       "1    2000-08-31   93.02\n",
       "2    2000-09-29   91.13\n",
       "3    2000-10-31   96.63\n",
       "4    2000-11-30   99.88\n",
       "..          ...     ...\n",
       "235  2020-02-28  149.24\n",
       "236  2020-03-31  136.51\n",
       "237  2020-04-30  151.92\n",
       "238  2020-05-29  156.44\n",
       "239  2020-06-15  157.05\n",
       "\n",
       "[240 rows x 2 columns]"
      ]
     },
     "execution_count": 18,
     "metadata": {},
     "output_type": "execute_result"
    }
   ],
   "source": [
    "#Реализуем простейшие методы, чтобы доставать данные и строить графики\n",
    "def get_df(ticker):\n",
    "    st = \"select * from \" + ticker\n",
    "    return pd.read_sql(\n",
    "    st, conn)\n",
    "\n",
    "get_df(\"MMM\")"
   ]
  },
  {
   "cell_type": "code",
   "execution_count": 19,
   "metadata": {},
   "outputs": [],
   "source": [
    "def plot_df(ticker):\n",
    "    get_df(ticker).plot()"
   ]
  },
  {
   "cell_type": "code",
   "execution_count": 20,
   "metadata": {},
   "outputs": [
    {
     "data": {
      "image/png": "[encoded data removed]",
      "text/plain": [
       "<Figure size 432x288 with 1 Axes>"
      ]
     },
     "metadata": {
      "needs_background": "light"
     },
     "output_type": "display_data"
    }
   ],
   "source": [
    "plot_df(\"MMM\")"
   ]
  },
  {
   "cell_type": "code",
   "execution_count": 21,
   "metadata": {},
   "outputs": [
    {
     "name": "stdout",
     "output_type": "stream",
     "text": [
      "MMM\n"
     ]
    },
    {
     "data": {
      "image/png": "[encoded data removed]",
      "text/plain": [
       "<Figure size 432x288 with 1 Axes>"
      ]
     },
     "metadata": {
      "needs_background": "light"
     },
     "output_type": "display_data"
    }
   ],
   "source": [
    "#Позволяет построить график по тикеру\n",
    "st = input()\n",
    "if st in tickers:\n",
    "    plot_df(st)\n",
    "else:\n",
    "    print(\"There no suck ticker\")"
   ]
  },
  {
   "cell_type": "code",
   "execution_count": 22,
   "metadata": {},
   "outputs": [
    {
     "name": "stdout",
     "output_type": "stream",
     "text": [
      "MMM\n",
      "          index   Value\n",
      "0    2000-07-31   90.06\n",
      "1    2000-08-31   93.02\n",
      "2    2000-09-29   91.13\n",
      "3    2000-10-31   96.63\n",
      "4    2000-11-30   99.88\n",
      "..          ...     ...\n",
      "235  2020-02-28  149.24\n",
      "236  2020-03-31  136.51\n",
      "237  2020-04-30  151.92\n",
      "238  2020-05-29  156.44\n",
      "239  2020-06-15  157.05\n",
      "\n",
      "[240 rows x 2 columns]\n"
     ]
    }
   ],
   "source": [
    "#Позволяет получить данные по тикеру\n",
    "st = input()\n",
    "if st in tickers:\n",
    "    print(get_df(st))\n",
    "else:\n",
    "    print(\"There no suck ticker\")"
   ]
  }
 ],
 "metadata": {
  "kernelspec": {
   "display_name": "Python 3",
   "language": "python",
   "name": "python3"
  },
  "language_info": {
   "codemirror_mode": {
    "name": "ipython",
    "version": 3
   },
   "file_extension": ".py",
   "mimetype": "text/x-python",
   "name": "python",
   "nbconvert_exporter": "python",
   "pygments_lexer": "ipython3",
   "version": "3.7.6"
  }
 },
 "nbformat": 4,
 "nbformat_minor": 2
}
